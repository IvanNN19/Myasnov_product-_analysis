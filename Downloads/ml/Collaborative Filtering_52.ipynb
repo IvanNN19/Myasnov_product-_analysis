{
 "cells": [
  {
   "cell_type": "markdown",
   "id": "383d91c4-1381-4531-8365-e48f2ba5ff4b",
   "metadata": {},
   "source": [
    "# Коллаборативная фильтрация"
   ]
  },
  {
   "cell_type": "markdown",
   "id": "2af9534f-a4d0-4dfe-8427-d85e137aafaa",
   "metadata": {},
   "source": [
    "Коллаборативная фильтрация основана на идее, что пользователей, похожих на меня, можно использовать для прогнозирования того, насколько мне понравится тот или иной продукт или услуга, которые эти пользователи испытали на себе, а я - нет."
   ]
  },
  {
   "cell_type": "code",
   "execution_count": 42,
   "id": "b73a7e24-8492-459d-afc5-21c103c17a45",
   "metadata": {},
   "outputs": [],
   "source": [
    "import pandas as pd\n",
    "import numpy as np\n",
    "from surprise import Reader, Dataset, SVD\n",
    "from surprise.model_selection import cross_validate\n",
    "from surprise import KNNBasic\n",
    "from surprise import accuracy\n",
    "from surprise import SlopeOne\n",
    "\n",
    "from surprise.model_selection import RandomizedSearchCV\n",
    "from scipy.stats import randint, uniform\n",
    "from sklearn.model_selection import GridSearchCV"
   ]
  },
  {
   "cell_type": "code",
   "execution_count": 22,
   "id": "8118afb6-6da5-40ee-85a4-e9f2090abc4b",
   "metadata": {},
   "outputs": [
    {
     "data": {
      "text/html": [
       "<div>\n",
       "<style scoped>\n",
       "    .dataframe tbody tr th:only-of-type {\n",
       "        vertical-align: middle;\n",
       "    }\n",
       "\n",
       "    .dataframe tbody tr th {\n",
       "        vertical-align: top;\n",
       "    }\n",
       "\n",
       "    .dataframe thead th {\n",
       "        text-align: right;\n",
       "    }\n",
       "</style>\n",
       "<table border=\"1\" class=\"dataframe\">\n",
       "  <thead>\n",
       "    <tr style=\"text-align: right;\">\n",
       "      <th></th>\n",
       "      <th>userId</th>\n",
       "      <th>movieId</th>\n",
       "      <th>rating</th>\n",
       "      <th>timestamp</th>\n",
       "    </tr>\n",
       "  </thead>\n",
       "  <tbody>\n",
       "    <tr>\n",
       "      <th>0</th>\n",
       "      <td>1</td>\n",
       "      <td>31</td>\n",
       "      <td>2.5</td>\n",
       "      <td>1260759144</td>\n",
       "    </tr>\n",
       "    <tr>\n",
       "      <th>1</th>\n",
       "      <td>1</td>\n",
       "      <td>1029</td>\n",
       "      <td>3.0</td>\n",
       "      <td>1260759179</td>\n",
       "    </tr>\n",
       "    <tr>\n",
       "      <th>2</th>\n",
       "      <td>1</td>\n",
       "      <td>1061</td>\n",
       "      <td>3.0</td>\n",
       "      <td>1260759182</td>\n",
       "    </tr>\n",
       "    <tr>\n",
       "      <th>3</th>\n",
       "      <td>1</td>\n",
       "      <td>1129</td>\n",
       "      <td>2.0</td>\n",
       "      <td>1260759185</td>\n",
       "    </tr>\n",
       "    <tr>\n",
       "      <th>4</th>\n",
       "      <td>1</td>\n",
       "      <td>1172</td>\n",
       "      <td>4.0</td>\n",
       "      <td>1260759205</td>\n",
       "    </tr>\n",
       "  </tbody>\n",
       "</table>\n",
       "</div>"
      ],
      "text/plain": [
       "   userId  movieId  rating   timestamp\n",
       "0       1       31     2.5  1260759144\n",
       "1       1     1029     3.0  1260759179\n",
       "2       1     1061     3.0  1260759182\n",
       "3       1     1129     2.0  1260759185\n",
       "4       1     1172     4.0  1260759205"
      ]
     },
     "execution_count": 22,
     "metadata": {},
     "output_type": "execute_result"
    }
   ],
   "source": [
    "reader = Reader()\n",
    "ratings = pd.read_csv('ratings_small.csv')\n",
    "data = Dataset.load_from_df(ratings[['userId', 'movieId', 'rating']], reader)\n",
    "ratings.head()"
   ]
  },
  {
   "cell_type": "markdown",
   "id": "0b7c8eb2-78b6-4685-8eec-7e4295d1d32c",
   "metadata": {},
   "source": [
    "Буду тестировать разные модели из surprise - библиотека, предназначенная для построения и анализа рекомендательных систем:\n",
    "* Загружаем датасет.\n",
    "* Проводим кросс-валидацию. Кросс-валидация — это метод оценки производительности модели на разных подмножествах данных, чтобы оценить насколько хорошо она будет работать на новых данных. Будем использовать 5-кратную кросс-валидацию: данные будут разделены на 5 частей, и модель будет обучена на 4 из них и протестирована на оставшейся 5-й, и это будет повторено 5 раз, чтобы все 5 частей послужили тестовыми.\n",
    "* Обучаем модель.\n",
    "* Предсказываем."
   ]
  },
  {
   "cell_type": "markdown",
   "id": "5f5c8381-e4d0-49d3-9564-cbeac766ace8",
   "metadata": {},
   "source": [
    "## SVD\n",
    "\n",
    "SVD - это метод линейной алгебры, который используется для разложения матрицы на три другие матрицы. В нашем случае, SVD используется для уменьшения размерности матрицы пользователь-фильм.\n",
    "\n",
    "Как SVD работает в рекомендательных системах:\n",
    "1.  Матрица пользователь-фильм: Исходные данные представляются в виде матрицы, где строки — пользователи, столбцы — фильмы, и ячейки содержат известные рейтинги.\n",
    "2.  Сингулярное разложение: Матрица разлагается на три:\n",
    "    * Матрица пользователей: Представляет пользователей в векторном пространстве. Каждый ряд соответствует пользователю, а столбцы - факторам, которые могут влиять на предпочтения пользователя (например, фактор \"любит драму\", \"любит комедии\").\n",
    "    * Диагональная матрица сингулярных значений: Содержит сингулярные значения, которые указывают на важность каждого фактора. Значения упорядочены по убыванию.\n",
    "    * Транспонированная матрица фильмов: Представляет фильмы в векторном пространстве. Каждый столбец соответствует фильму, а строки - факторам, аналогичным факторам из матрицы пользователей.\n",
    "3.  Уменьшение размерности: Оставляют только самые важные факторы (сингулярные значения) из матрицы сингулярных значений, тем самым сокращая размерность матриц пользователей и фильмов.\n",
    "4.  Восстановление матрицы: Используя урезанные матрицы, можно восстановить (приблизить) исходную матрицу рейтингов.\n",
    "5.  Предсказание: Предсказанные рейтинги используются для рекомендации фильмов пользователям."
   ]
  },
  {
   "cell_type": "code",
   "execution_count": 44,
   "id": "fe144533-0742-4425-83e2-ea963964f60f",
   "metadata": {},
   "outputs": [
    {
     "name": "stdout",
     "output_type": "stream",
     "text": [
      "Evaluating RMSE, MAE of algorithm SVD on 5 split(s).\n",
      "\n",
      "                  Fold 1  Fold 2  Fold 3  Fold 4  Fold 5  Mean    Std     \n",
      "RMSE (testset)    0.9022  0.8965  0.8987  0.8891  0.9011  0.8975  0.0046  \n",
      "MAE (testset)     0.6917  0.6931  0.6948  0.6831  0.6956  0.6917  0.0045  \n",
      "Fit time          7.30    8.94    7.07    8.05    8.66    8.01    0.73    \n",
      "Test time         1.31    2.68    1.38    1.66    1.14    1.63    0.55    \n",
      "SVD Prediction for user 1 and movie 302: 2.81\n"
     ]
    }
   ],
   "source": [
    "svd = SVD()\n",
    "\n",
    "cross_validate(svd, data, measures=['RMSE', 'MAE'], cv=5, verbose=True)\n",
    "\n",
    "trainset = data.build_full_trainset()\n",
    "\n",
    "prediction = svd.predict(1, 302, 3)\n",
    "print(f\"SVD Prediction for user 1 and movie 302: {prediction.est:.2f}\")"
   ]
  },
  {
   "cell_type": "markdown",
   "id": "315ad37b-cd98-4010-b966-be3865aff427",
   "metadata": {},
   "source": [
    "## KNNBasic\n",
    "\n",
    "KNNBasic — это метод, который делает предсказания на основе рейтингов K пользователей, наиболее похожих на текущего пользователя. Он относится к группе алгоритмов \"на основе памяти\", потому что модель хранит все данные (чаще всего, после преобразования в матрицу схожести) и делает вычисления на основе этих данных, в отличие от алгоритмов \"на основе модели\", которые строят модель из данных (SVD).\n",
    "\n",
    "Как KNNBasic работает:\n",
    "\n",
    "1. Расчет схожести:\n",
    "  * Вычисляется схожесть между всеми парами пользователей.\n",
    "  * Используется pearson_baseline (в моем коде). Это модифицированный коэффициент корреляции Пирсона, который учитывает базовые рейтинги пользователей при расчете схожести, что обычно повышает точность. Базовый рейтинг пользователя - это средний рейтинг, который он ставит всем фильмам.\n",
    "2. Поиск K ближайших соседей:\n",
    "  * Для текущего пользователя выбираются K пользователей, которые имеют наибольшую схожесть.\n",
    "3. Предсказание рейтинга:\n",
    "  * Рейтинг для текущего пользователя и фильма предсказывается на основе рейтингов его K ближайших соседей."
   ]
  },
  {
   "cell_type": "code",
   "execution_count": 35,
   "id": "de7e5483-d2f8-4b70-8854-ec7d5181434c",
   "metadata": {},
   "outputs": [
    {
     "name": "stdout",
     "output_type": "stream",
     "text": [
      "Estimating biases using als...\n",
      "Computing the pearson_baseline similarity matrix...\n",
      "Done computing similarity matrix.\n",
      "Estimating biases using als...\n",
      "Computing the pearson_baseline similarity matrix...\n",
      "Done computing similarity matrix.\n",
      "Estimating biases using als...\n",
      "Computing the pearson_baseline similarity matrix...\n",
      "Done computing similarity matrix.\n",
      "Estimating biases using als...\n",
      "Computing the pearson_baseline similarity matrix...\n",
      "Done computing similarity matrix.\n",
      "Estimating biases using als...\n",
      "Computing the pearson_baseline similarity matrix...\n",
      "Done computing similarity matrix.\n",
      "Evaluating RMSE, MAE of algorithm KNNBasic on 5 split(s).\n",
      "\n",
      "                  Fold 1  Fold 2  Fold 3  Fold 4  Fold 5  Mean    Std     \n",
      "RMSE (testset)    1.0022  1.0032  0.9948  0.9937  0.9946  0.9977  0.0041  \n",
      "MAE (testset)     0.7736  0.7754  0.7679  0.7644  0.7706  0.7704  0.0039  \n",
      "Fit time          0.74    0.68    0.71    0.69    0.68    0.70    0.02    \n",
      "Test time         1.16    1.14    1.26    1.12    1.04    1.14    0.07    \n",
      "KNN Prediction for user 1 and movie 302: 3.54\n"
     ]
    }
   ],
   "source": [
    "sim_options = {'name': 'pearson_baseline', 'user_based': True}\n",
    "knn = KNNBasic(sim_options=sim_options)\n",
    "\n",
    "cross_validate(knn, data, measures=['RMSE', 'MAE'], cv=5, verbose=True)\n",
    "\n",
    "trainset = data.build_full_trainset()\n",
    "\n",
    "prediction = knn.predict(1, 302, 3)\n",
    "print(f\"KNN Prediction for user 1 and movie 302: {prediction.est:.2f}\")"
   ]
  },
  {
   "cell_type": "markdown",
   "id": "b38880f1-e827-4880-8b35-8d122672f1d5",
   "metadata": {},
   "source": [
    "## SlopeOne\n",
    "\n",
    "SlopeOne — это алгоритм рекомендательных систем, основанный на сравнении разностей рейтингов между парами предметов (фильмов).\n",
    "\n",
    "Как работает SlopeOne:\n",
    "\n",
    "1. Расчет разностей рейтингов:\n",
    "    * Для каждой пары фильмов вычисляется средняя разность рейтингов, которые поставили им пользователи.\n",
    "    * Эти разности сохраняются в матрицу разностей.\n",
    "2. Предсказание рейтинга:\n",
    "    * Чтобы предсказать рейтинг пользователя для фильма, алгоритм берет рейтинги, которые этот пользователь поставил другим фильмам, и добавляет к ним средние разности между этими фильмами и фильмом, который нужно предсказать.\n",
    "    * Предсказанный рейтинг является средним из всех этих \"скорректированных\" рейтингов.\n",
    "    * Если есть несколько фильмов, которые пользователь оценил, то аналогичные вычисления проводятся для всех этих фильмов, и затем результаты усредняются."
   ]
  },
  {
   "cell_type": "code",
   "execution_count": 36,
   "id": "e65841da-bec3-4e09-b24c-f040e8780951",
   "metadata": {},
   "outputs": [
    {
     "name": "stdout",
     "output_type": "stream",
     "text": [
      "Evaluating RMSE, MAE of algorithm SlopeOne on 5 split(s).\n",
      "\n",
      "                  Fold 1  Fold 2  Fold 3  Fold 4  Fold 5  Mean    Std     \n",
      "RMSE (testset)    0.9229  0.9341  0.9313  0.9316  0.9252  0.9290  0.0042  \n",
      "MAE (testset)     0.7079  0.7145  0.7128  0.7136  0.7092  0.7116  0.0026  \n",
      "Fit time          2.46    3.37    2.58    2.64    2.54    2.72    0.33    \n",
      "Test time         4.74    4.52    4.34    4.52    4.49    4.52    0.13    \n",
      "SlopeOne Prediction for user 1 and movie 302: 2.54\n"
     ]
    }
   ],
   "source": [
    "slope_one = SlopeOne()\n",
    "cross_validate(slope_one, data, measures=['RMSE', 'MAE'], cv=5, verbose=True)\n",
    "\n",
    "trainset = data.build_full_trainset()\n",
    "\n",
    "prediction = slope_one.predict(1, 302, 3)\n",
    "print(f\"SlopeOne Prediction for user 1 and movie 302: {prediction.est:.2f}\")"
   ]
  },
  {
   "cell_type": "markdown",
   "id": "fab6f71b-4140-4388-a519-ee94d820ae1a",
   "metadata": {},
   "source": [
    "### Подбор гиперпараметров для SVD"
   ]
  },
  {
   "cell_type": "code",
   "execution_count": 23,
   "id": "2e773968-b08a-4e8d-a894-23771aca3fc2",
   "metadata": {},
   "outputs": [
    {
     "name": "stdout",
     "output_type": "stream",
     "text": [
      "Best RMSE: 0.8910287090640056\n",
      "Best MAE: 0.687439718534794\n",
      "Best parameters: {'n_factors': 50, 'reg_all': 0.1}\n",
      "Prediction: 2.73\n"
     ]
    }
   ],
   "source": [
    "param_grid = {\n",
    "    'n_factors': [50, 100, 150],\n",
    "    'reg_all': [0.02, 0.1, 0.5]\n",
    "}\n",
    "\n",
    "gs = GridSearchCV(SVD, param_grid, measures=['rmse', 'mae'], cv=5)\n",
    "gs.fit(data)\n",
    "\n",
    "print(\"Best RMSE:\", gs.best_score['rmse'])\n",
    "print(\"Best MAE:\", gs.best_score['mae'])\n",
    "print(\"Best parameters:\", gs.best_params['rmse'])\n",
    "\n",
    "best_svd_rmse = gs.best_estimator['rmse']\n",
    "\n",
    "trainset = data.build_full_trainset()\n",
    "best_svd_rmse.fit(trainset)\n",
    "\n",
    "prediction = best_svd_rmse.predict(1, 302, 2.5)\n",
    "print(f\"Prediction: {prediction.est:.2f}\")"
   ]
  },
  {
   "cell_type": "markdown",
   "id": "544b84e0-328c-450f-85d2-41901afdbeeb",
   "metadata": {},
   "source": [
    "* n_factors (количество факторов): Это количество *скрытых факторов*, которые SVD использует для представления пользователей и фильмов.\n",
    "* reg_all (регуляризация всех параметров): Это параметр, который контролирует *регуляризацию*, которая применяется ко всем параметрам модели.\n",
    "Регуляризация — это техника, которая помогает предотвратить *переобучение* модели. Она как бы \"штрафует\" модель за слишком большие или сложные параметры, заставляя её находить более простые и обобщающие решения.\n",
    "* lr_all (скорость обучения): Это параметр, который контролирует, насколько сильно параметры модели обновляются на каждой итерации обучения. Алгоритм обучения SVD постепенно меняет параметры модели, чтобы сделать предсказания более точными. lr_all определяет, на сколько сильно параметры обновляются на каждой итерации.\n",
    "* n_epochs (количество эпох): Это количество раз, которое алгоритм SVD проходит через все тренировочные данные в процессе обучения.\n",
    "Что это такое: Каждая эпоха — это один проход по всему набору данных для обучения модели."
   ]
  },
  {
   "cell_type": "code",
   "execution_count": 32,
   "id": "ccb9b9b8-55b8-4786-90b4-c8a747435034",
   "metadata": {},
   "outputs": [
    {
     "name": "stdout",
     "output_type": "stream",
     "text": [
      "Run 1/5\n",
      "Best RMSE: 0.8845886068824523\n",
      "Best MAE: 0.6823396790926728\n",
      "Best parameters (RMSE): {'lr_all': 0.0152356581331288, 'n_epochs': 20, 'n_factors': 120, 'reg_all': 0.13516352219691535}\n",
      "Best parameters (MAE): {'lr_all': 0.0152356581331288, 'n_epochs': 20, 'n_factors': 120, 'reg_all': 0.13516352219691535}\n",
      "Run 2/5\n",
      "Best RMSE: 0.8825978135804469\n",
      "Best MAE: 0.6791322398987357\n",
      "Best parameters (RMSE): {'lr_all': 0.014524748165272116, 'n_epochs': 13, 'n_factors': 179, 'reg_all': 0.05750356368218917}\n",
      "Best parameters (MAE): {'lr_all': 0.014524748165272116, 'n_epochs': 13, 'n_factors': 179, 'reg_all': 0.05750356368218917}\n",
      "Run 3/5\n",
      "Best RMSE: 0.8729471580300328\n",
      "Best MAE: 0.6708102330982632\n",
      "Best parameters (RMSE): {'lr_all': 0.012953500641312315, 'n_epochs': 44, 'n_factors': 91, 'reg_all': 0.09408867005221243}\n",
      "Best parameters (MAE): {'lr_all': 0.012953500641312315, 'n_epochs': 44, 'n_factors': 91, 'reg_all': 0.09408867005221243}\n",
      "Run 4/5\n",
      "Best RMSE: 0.8785716626025932\n",
      "Best MAE: 0.6751491243999539\n",
      "Best parameters (RMSE): {'lr_all': 0.01955176920190784, 'n_epochs': 24, 'n_factors': 67, 'reg_all': 0.11583846557558829}\n",
      "Best parameters (MAE): {'lr_all': 0.01955176920190784, 'n_epochs': 24, 'n_factors': 67, 'reg_all': 0.11583846557558829}\n",
      "Run 5/5\n",
      "Best RMSE: 0.8817657613454969\n",
      "Best MAE: 0.6789248907056544\n",
      "Best parameters (RMSE): {'lr_all': 0.007413504143112185, 'n_epochs': 27, 'n_factors': 116, 'reg_all': 0.09124137123444713}\n",
      "Best parameters (MAE): {'lr_all': 0.007413504143112185, 'n_epochs': 27, 'n_factors': 116, 'reg_all': 0.09124137123444713}\n"
     ]
    }
   ],
   "source": [
    "def train_and_evaluate(data, n_iter=10):\n",
    "    \n",
    "    param_distributions = {\n",
    "        'n_factors': randint(20, 200),\n",
    "        'reg_all': uniform(0.01, 0.5),\n",
    "        'lr_all': uniform(0.002, 0.02),\n",
    "        'n_epochs': randint(10, 50)\n",
    "    }\n",
    "\n",
    "    rs = RandomizedSearchCV(SVD, param_distributions, measures=['rmse', 'mae'], cv=5, n_iter=n_iter)\n",
    "    rs.fit(data)\n",
    "\n",
    "    print(\"Best RMSE:\", rs.best_score['rmse'])\n",
    "    print(\"Best MAE:\", rs.best_score['mae'])\n",
    "    print(\"Best parameters (RMSE):\", rs.best_params['rmse'])\n",
    "    print(\"Best parameters (MAE):\", rs.best_params['mae'])\n",
    "\n",
    "    best_rmse = rs.best_score['rmse']\n",
    "    best_mae = rs.best_score['mae']\n",
    "    best_params_rmse = rs.best_params['rmse']\n",
    "    best_params_mae = rs.best_params['mae']\n",
    "    best_svd_rmse = rs.best_estimator['rmse']\n",
    "    best_svd_mae = rs.best_estimator['mae']\n",
    "\n",
    "    trainset = data.build_full_trainset()\n",
    "    best_svd_rmse.fit(trainset)\n",
    "    best_svd_mae.fit(trainset)\n",
    "\n",
    "    return {\n",
    "        'best_rmse': best_rmse,\n",
    "        'best_mae': best_mae,\n",
    "        'best_params_rmse': best_params_rmse,\n",
    "        'best_params_mae': best_params_mae,\n",
    "        'model_rmse': best_svd_rmse,\n",
    "        'model_mae': best_svd_mae\n",
    "    }\n",
    "\n",
    "\n",
    "num_runs = 5\n",
    "results = []\n",
    "\n",
    "# Запускаем обучение и оценку несколько раз\n",
    "for i in range(num_runs):\n",
    "    print(f\"Run {i+1}/{num_runs}\")\n",
    "    result = train_and_evaluate(data, n_iter=10)\n",
    "    results.append(result)\n"
   ]
  },
  {
   "cell_type": "code",
   "execution_count": 38,
   "id": "17782fdc-729c-434d-a4ef-0dc6b4e16589",
   "metadata": {},
   "outputs": [
    {
     "name": "stdout",
     "output_type": "stream",
     "text": [
      "\n",
      "Best Results Overall:\n",
      "Best RMSE: 0.8729\n",
      "Best parameters (RMSE): {'lr_all': 0.012953500641312315, 'n_epochs': 44, 'n_factors': 91, 'reg_all': 0.09408867005221243}\n",
      "Best MAE: 0.6708\n",
      "Best parameters (MAE): {'lr_all': 0.012953500641312315, 'n_epochs': 44, 'n_factors': 91, 'reg_all': 0.09408867005221243}\n",
      "Prediction (Best RMSE model): 2.76\n",
      "Prediction (Best MAE model): 2.83\n"
     ]
    }
   ],
   "source": [
    "# Находим лучшие результаты среди всех запусков\n",
    "best_rmse_run = min(results, key=lambda x: x['best_rmse'])\n",
    "best_mae_run = min(results, key=lambda x: x['best_mae'])\n",
    "\n",
    "# Выводим результаты\n",
    "print(\"\\nBest Results Overall:\")\n",
    "print(f\"Best RMSE: {best_rmse_run['best_rmse']:.4f}\")\n",
    "print(f\"Best parameters (RMSE): {best_rmse_run['best_params_rmse']}\")\n",
    "print(f\"Best MAE: {best_mae_run['best_mae']:.4f}\")\n",
    "print(f\"Best parameters (MAE): {best_mae_run['best_params_mae']}\")\n",
    "\n",
    "# Выводим предсказания\n",
    "prediction_rmse = best_rmse_run['model_rmse'].predict(1, 302, 2.5)\n",
    "prediction_mae = best_mae_run['model_mae'].predict(1, 302, 2.5)\n",
    "\n",
    "print(f\"Prediction (Best RMSE model): {prediction_rmse.est:.2f}\")\n",
    "print(f\"Prediction (Best MAE model): {prediction_mae.est:.2f}\")"
   ]
  },
  {
   "cell_type": "markdown",
   "id": "c236c64e-b2ca-49a7-bb45-c1263e883a63",
   "metadata": {},
   "source": [
    "### Итоговая модель:\n"
   ]
  },
  {
   "cell_type": "code",
   "execution_count": 45,
   "id": "200f3b20-d558-4dd1-966e-e8d97d54be4c",
   "metadata": {},
   "outputs": [
    {
     "name": "stdout",
     "output_type": "stream",
     "text": [
      "Evaluating RMSE, MAE of algorithm SVD on 5 split(s).\n",
      "\n",
      "                  Fold 1  Fold 2  Fold 3  Fold 4  Fold 5  Mean    Std     \n",
      "RMSE (testset)    0.8695  0.8800  0.8774  0.8730  0.8725  0.8745  0.0037  \n",
      "MAE (testset)     0.6676  0.6752  0.6747  0.6674  0.6727  0.6715  0.0034  \n",
      "Fit time          16.34   17.81   15.82   15.81   15.70   16.30   0.79    \n",
      "Test time         2.96    1.34    1.22    1.44    1.14    1.62    0.68    \n",
      "SVD Prediction for user 1 and movie 302: 2.88\n"
     ]
    }
   ],
   "source": [
    "best_params_rmse = {'lr_all': 0.012953500641312315, 'n_epochs': 44, 'n_factors': 91, 'reg_all': 0.09408867005221243}\n",
    "best_params_mae = {'lr_all': 0.012953500641312315, 'n_epochs': 44, 'n_factors': 91, 'reg_all': 0.09408867005221243}\n",
    "\n",
    "# Инициализация SVD с лучшими параметрами (RMSE)\n",
    "svd = SVD(\n",
    "    lr_all=best_params_rmse['lr_all'],\n",
    "    n_epochs=best_params_rmse['n_epochs'],\n",
    "    n_factors=best_params_rmse['n_factors'],\n",
    "    reg_all=best_params_rmse['reg_all']\n",
    ")\n",
    "\n",
    "cross_validate(svd, data, measures=['RMSE', 'MAE'], cv=5, verbose=True)\n",
    "\n",
    "trainset = data.build_full_trainset()\n",
    "\n",
    "prediction = svd.predict(1, 302, 3)\n",
    "print(f\"SVD Prediction for user 1 and movie 302: {prediction.est:.2f}\")"
   ]
  },
  {
   "cell_type": "markdown",
   "id": "4f9d76db-f33f-4f57-bb4b-11d8d12b9caf",
   "metadata": {},
   "source": [
    "### Топ 30 фильмов для пользователя"
   ]
  },
  {
   "cell_type": "code",
   "execution_count": 125,
   "id": "2b512956-0cc4-4b14-9050-c89c2969ad37",
   "metadata": {},
   "outputs": [],
   "source": [
    "def get_top_n_recommendations(model, user_id, data, n=30):\n",
    "    all_movie_ids = data.df['movieId'].unique()\n",
    "    rated_movie_ids = data.df[data.df['userId'] == user_id]['movieId'].unique()\n",
    "\n",
    "    unrated_movie_ids = np.setdiff1d(all_movie_ids, rated_movie_ids)\n",
    "\n",
    "    predictions = [model.predict(user_id, movie_id) for movie_id in unrated_movie_ids]\n",
    "\n",
    "    predictions.sort(key=lambda x: x.est, reverse=True)\n",
    "\n",
    "    top_n_movie_ids = [pred.iid for pred in predictions[:n]]\n",
    "    return top_n_movie_ids\n"
   ]
  },
  {
   "cell_type": "code",
   "execution_count": 126,
   "id": "03ee0027-f554-499e-9715-e4e0f2d59d94",
   "metadata": {},
   "outputs": [
    {
     "name": "stdout",
     "output_type": "stream",
     "text": [
      "Top 30 movies for user 1: [858, 318, 913, 7502, 969, 926, 1221, 2064, 3462, 5971, 904, 50, 899, 905, 78499, 1252, 106782, 1254, 26729, 1276, 2917, 2019, 1060, 3730, 307, 2300, 1228, 246, 1203, 1945]\n"
     ]
    }
   ],
   "source": [
    "user_id_to_recommend = 1\n",
    "\n",
    "top_30_movies = get_top_n_recommendations(best_svd_rmse, user_id_to_recommend, data, n=30)\n",
    "print(f\"Top 30 movies for user {user_id_to_recommend}: {top_30_movies}\")"
   ]
  }
 ],
 "metadata": {
  "kernelspec": {
   "display_name": "Python 3 (ipykernel)",
   "language": "python",
   "name": "python3"
  },
  "language_info": {
   "codemirror_mode": {
    "name": "ipython",
    "version": 3
   },
   "file_extension": ".py",
   "mimetype": "text/x-python",
   "name": "python",
   "nbconvert_exporter": "python",
   "pygments_lexer": "ipython3",
   "version": "3.12.4"
  }
 },
 "nbformat": 4,
 "nbformat_minor": 5
}
