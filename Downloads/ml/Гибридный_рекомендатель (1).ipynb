{
 "cells": [
  {
   "cell_type": "code",
   "execution_count": 41,
   "metadata": {
    "id": "nU2B5yT8oXj7"
   },
   "outputs": [],
   "source": [
    "%matplotlib inline\n",
    "import pandas as pd\n",
    "import numpy as np\n",
    "import matplotlib.pyplot as plt\n",
    "import seaborn as sns\n",
    "from scipy import stats\n",
    "from ast import literal_eval\n",
    "from sklearn.feature_extraction.text import TfidfVectorizer, CountVectorizer\n",
    "from sklearn.metrics.pairwise import linear_kernel, cosine_similarity\n",
    "from nltk.stem.snowball import SnowballStemmer\n",
    "from nltk.stem.wordnet import WordNetLemmatizer\n",
    "from nltk.corpus import wordnet\n",
    "from surprise import Reader, Dataset, SVD\n",
    "from surprise.model_selection import cross_validate\n",
    "\n",
    "import warnings; warnings.simplefilter('ignore')"
   ]
  },
  {
   "cell_type": "code",
   "execution_count": 2,
   "metadata": {
    "id": "4-A1jsJ-r7VT"
   },
   "outputs": [],
   "source": [
    "md = pd.read_csv('movies_metadata.csv')\n",
    "links_small = pd.read_csv('links_small.csv')\n",
    "\n",
    "ratings_small = pd.read_csv('ratings_small.csv')\n",
    "credits = pd.read_csv('credits.csv')\n",
    "keywords = pd.read_csv('keywords.csv')"
   ]
  },
  {
   "cell_type": "code",
   "execution_count": 3,
   "metadata": {
    "id": "KP4Fb4RtqGUy"
   },
   "outputs": [],
   "source": [
    "md['genres'] = md['genres'].fillna('[]').apply(literal_eval).apply(lambda x: [i['name'] for i in x] if isinstance(x, list) else [])"
   ]
  },
  {
   "cell_type": "code",
   "execution_count": 4,
   "metadata": {
    "id": "_cfYQ3iorXrQ"
   },
   "outputs": [],
   "source": [
    "md['year'] = pd.to_datetime(md['release_date'], errors='coerce').apply(lambda x: x.year if x != np.nan else np.nan)"
   ]
  },
  {
   "cell_type": "code",
   "execution_count": 5,
   "metadata": {
    "id": "7H5WRuiWRvQO"
   },
   "outputs": [],
   "source": [
    "links_small = links_small[links_small['tmdbId'].notnull()]['tmdbId'].astype('int')"
   ]
  },
  {
   "cell_type": "markdown",
   "metadata": {
    "id": "hERDJOmjZ000"
   },
   "source": [
    "# Рекомендашка на основе описания фильма и его тегов"
   ]
  },
  {
   "cell_type": "code",
   "execution_count": 6,
   "metadata": {
    "id": "2WzdwmktoYfW"
   },
   "outputs": [],
   "source": [
    "#Check EDA Notebook for how and why I got these indices.\n",
    "md = md.drop([19730, 29503, 35587])\n",
    "md['id'] = md['id'].astype('int')"
   ]
  },
  {
   "cell_type": "code",
   "execution_count": 7,
   "metadata": {
    "colab": {
     "base_uri": "https://localhost:8080/"
    },
    "id": "LF5cYvsMpwmR",
    "outputId": "1119c6f5-cca0-4822-fa45-8b4ed49a882a"
   },
   "outputs": [
    {
     "data": {
      "text/plain": [
       "(9099, 25)"
      ]
     },
     "execution_count": 7,
     "metadata": {},
     "output_type": "execute_result"
    }
   ],
   "source": [
    "smd = md[md['id'].isin(links_small)]\n",
    "smd.shape"
   ]
  },
  {
   "cell_type": "code",
   "execution_count": 8,
   "metadata": {
    "id": "gPx2e1g_rd-3"
   },
   "outputs": [],
   "source": [
    "smd['tagline'] = smd['tagline'].fillna('')\n",
    "smd['description'] = smd['overview'] + smd['tagline']\n",
    "smd['description'] = smd['description'].fillna('')"
   ]
  },
  {
   "cell_type": "code",
   "execution_count": 9,
   "metadata": {
    "id": "8XblRwuHspmK"
   },
   "outputs": [],
   "source": [
    "tf = TfidfVectorizer(analyzer='word', ngram_range=(1, 2), min_df=0.0, stop_words='english')\n",
    "tfidf_matrix = tf.fit_transform(smd['description'])"
   ]
  },
  {
   "cell_type": "code",
   "execution_count": 10,
   "metadata": {
    "colab": {
     "base_uri": "https://localhost:8080/"
    },
    "id": "WRvENMj1sqAb",
    "outputId": "f9cfbde1-fef3-4f7d-9dbe-d2e9dfc0cf12"
   },
   "outputs": [
    {
     "data": {
      "text/plain": [
       "(9099, 268124)"
      ]
     },
     "execution_count": 10,
     "metadata": {},
     "output_type": "execute_result"
    }
   ],
   "source": [
    "tfidf_matrix.shape"
   ]
  },
  {
   "cell_type": "code",
   "execution_count": 11,
   "metadata": {
    "id": "HbLBxDlPssCg"
   },
   "outputs": [],
   "source": [
    "cosine_sim = linear_kernel(tfidf_matrix, tfidf_matrix)\n",
    "smd = smd.reset_index()\n",
    "titles = smd['title']\n",
    "indices = pd.Series(smd.index, index=smd['title'])"
   ]
  },
  {
   "cell_type": "code",
   "execution_count": 14,
   "metadata": {
    "id": "h0Yolxvsu5-E"
   },
   "outputs": [],
   "source": [
    "def get_recommendations(title):\n",
    "    idx = indices[title]\n",
    "    sim_scores = list(enumerate(cosine_sim[idx]))\n",
    "    sim_scores = sorted(sim_scores, key=lambda x: x[1], reverse=True)\n",
    "    sim_scores = sim_scores[1:31]\n",
    "    movie_indices = [i[0] for i in sim_scores]\n",
    "    return titles.iloc[movie_indices]"
   ]
  },
  {
   "cell_type": "code",
   "execution_count": 15,
   "metadata": {
    "colab": {
     "base_uri": "https://localhost:8080/",
     "height": 398
    },
    "id": "0KV6PjcSvHL0",
    "outputId": "9bafdbbf-ab46-45b0-abb5-f37351d1e021"
   },
   "outputs": [
    {
     "data": {
      "text/plain": [
       "3776                  Bandits\n",
       "3623                 Loverboy\n",
       "7838       30 Minutes or Less\n",
       "763        To Be or Not to Be\n",
       "849               Normal Life\n",
       "112            The Star Maker\n",
       "4274                   Xanadu\n",
       "4276               Banana Joe\n",
       "6023    Employee of the Month\n",
       "1402          The Newton Boys\n",
       "Name: title, dtype: object"
      ]
     },
     "execution_count": 15,
     "metadata": {},
     "output_type": "execute_result"
    }
   ],
   "source": [
    "get_recommendations('Taxi').head(10)"
   ]
  },
  {
   "cell_type": "code",
   "execution_count": null,
   "metadata": {
    "id": "C2_QzTaivKMV"
   },
   "outputs": [],
   "source": []
  },
  {
   "cell_type": "code",
   "execution_count": 16,
   "metadata": {
    "colab": {
     "base_uri": "https://localhost:8080/"
    },
    "id": "6NNbLpSd02Mw",
    "outputId": "67d1d364-91db-4e88-97eb-b027780f88ad"
   },
   "outputs": [
    {
     "data": {
      "text/plain": [
       "(45463, 25)"
      ]
     },
     "execution_count": 16,
     "metadata": {},
     "output_type": "execute_result"
    }
   ],
   "source": [
    "keywords['id'] = keywords['id'].astype('int')\n",
    "credits['id'] = credits['id'].astype('int')\n",
    "\n",
    "md['id'] = md['id'].astype('int')\n",
    "md.shape"
   ]
  },
  {
   "cell_type": "code",
   "execution_count": 17,
   "metadata": {
    "colab": {
     "base_uri": "https://localhost:8080/"
    },
    "id": "CRv66YgL05G8",
    "outputId": "d821b7e2-851b-4775-dec9-cc263cceabca"
   },
   "outputs": [
    {
     "data": {
      "text/plain": [
       "(9219, 28)"
      ]
     },
     "execution_count": 17,
     "metadata": {},
     "output_type": "execute_result"
    }
   ],
   "source": [
    "md = md.merge(credits, on='id')\n",
    "md = md.merge(keywords, on='id')\n",
    "smd = md[md['id'].isin(links_small)]\n",
    "smd.shape"
   ]
  },
  {
   "cell_type": "code",
   "execution_count": 18,
   "metadata": {
    "id": "0If9QRj809gq"
   },
   "outputs": [],
   "source": [
    "smd['cast'] = smd['cast'].apply(literal_eval)\n",
    "smd['crew'] = smd['crew'].apply(literal_eval)\n",
    "smd['keywords'] = smd['keywords'].apply(literal_eval)\n",
    "smd['cast_size'] = smd['cast'].apply(lambda x: len(x))\n",
    "smd['crew_size'] = smd['crew'].apply(lambda x: len(x))"
   ]
  },
  {
   "cell_type": "code",
   "execution_count": 19,
   "metadata": {
    "id": "MZkvRzTd1LtD"
   },
   "outputs": [],
   "source": [
    "def get_director(x):\n",
    "    for i in x:\n",
    "        if i['job'] == 'Director':\n",
    "            return i['name']\n",
    "    return np.nan"
   ]
  },
  {
   "cell_type": "code",
   "execution_count": 20,
   "metadata": {
    "id": "nB2IhqVH1PFE"
   },
   "outputs": [],
   "source": [
    "smd['director'] = smd['crew'].apply(get_director)"
   ]
  },
  {
   "cell_type": "code",
   "execution_count": 21,
   "metadata": {
    "id": "cmhbOVvn1R3E"
   },
   "outputs": [],
   "source": [
    "smd['cast'] = smd['cast'].apply(lambda x: [i['name'] for i in x] if isinstance(x, list) else [])\n",
    "smd['cast'] = smd['cast'].apply(lambda x: x[:3] if len(x) >=3 else x)\n",
    "smd['keywords'] = smd['keywords'].apply(lambda x: [i['name'] for i in x] if isinstance(x, list) else [])"
   ]
  },
  {
   "cell_type": "code",
   "execution_count": 22,
   "metadata": {
    "id": "0IqrL5EEUPQ7"
   },
   "outputs": [],
   "source": [
    "a = smd['director'].iloc[1]"
   ]
  },
  {
   "cell_type": "code",
   "execution_count": 23,
   "metadata": {
    "id": "VmUez75T1Wry"
   },
   "outputs": [],
   "source": [
    "smd['cast'] = smd['cast'].apply(\n",
    "    lambda x: [i.lower().replace(\" \", \"\") for i in x] if isinstance(x, list) else x\n",
    ")"
   ]
  },
  {
   "cell_type": "code",
   "execution_count": 24,
   "metadata": {
    "colab": {
     "base_uri": "https://localhost:8080/",
     "height": 1000
    },
    "id": "On-V87Q_2Hkm",
    "outputId": "4f63a961-2f10-4ab8-e4e8-0e1f83bca894"
   },
   "outputs": [
    {
     "data": {
      "text/plain": [
       "adult                     object\n",
       "belongs_to_collection     object\n",
       "budget                    object\n",
       "genres                    object\n",
       "homepage                  object\n",
       "id                         int32\n",
       "imdb_id                   object\n",
       "original_language         object\n",
       "original_title            object\n",
       "overview                  object\n",
       "popularity                object\n",
       "poster_path               object\n",
       "production_companies      object\n",
       "production_countries      object\n",
       "release_date              object\n",
       "revenue                  float64\n",
       "runtime                  float64\n",
       "spoken_languages          object\n",
       "status                    object\n",
       "tagline                   object\n",
       "title                     object\n",
       "video                     object\n",
       "vote_average             float64\n",
       "vote_count               float64\n",
       "year                     float64\n",
       "cast                      object\n",
       "crew                      object\n",
       "keywords                  object\n",
       "cast_size                  int64\n",
       "crew_size                  int64\n",
       "director                  object\n",
       "dtype: object"
      ]
     },
     "execution_count": 24,
     "metadata": {},
     "output_type": "execute_result"
    }
   ],
   "source": [
    "smd['director'] = smd['director'].astype(str)\n",
    "smd.dtypes"
   ]
  },
  {
   "cell_type": "code",
   "execution_count": 25,
   "metadata": {
    "id": "IUvPLBnPaMxV"
   },
   "outputs": [],
   "source": [
    "# smd['director'] = smd['director'].astype('str').apply(lambda x: str.lower(x.replace(\" \", \"\")))\n",
    "smd['director'] = smd['director'].apply(lambda x: x.replace(\" \", \"\") if isinstance(x, str) else x)\n",
    "smd['director'] = smd['director'].apply(lambda x: [x, x, x])"
   ]
  },
  {
   "cell_type": "code",
   "execution_count": 26,
   "metadata": {
    "colab": {
     "base_uri": "https://localhost:8080/",
     "height": 272
    },
    "id": "onzLIlBt2O4L",
    "outputId": "61482ed9-db77-4777-a807-5a9d6af7ffab"
   },
   "outputs": [
    {
     "data": {
      "text/plain": [
       "independent film        610\n",
       "woman director          550\n",
       "murder                  399\n",
       "duringcreditsstinger    327\n",
       "based on novel          318\n",
       "Name: keyword, dtype: int64"
      ]
     },
     "execution_count": 26,
     "metadata": {},
     "output_type": "execute_result"
    }
   ],
   "source": [
    "s = smd.apply(lambda x: pd.Series(x['keywords']),axis=1).stack().reset_index(level=1, drop=True)\n",
    "s.name = 'keyword'\n",
    "s = s.value_counts()\n",
    "s[:5]"
   ]
  },
  {
   "cell_type": "code",
   "execution_count": 27,
   "metadata": {
    "id": "THupvqFt2PUE"
   },
   "outputs": [],
   "source": [
    "s = s[s > 1]"
   ]
  },
  {
   "cell_type": "code",
   "execution_count": 28,
   "metadata": {
    "colab": {
     "base_uri": "https://localhost:8080/",
     "height": 36
    },
    "id": "nD8DklFMzw7D",
    "outputId": "4c5f03af-aefd-463a-e809-9f236027c851"
   },
   "outputs": [
    {
     "data": {
      "text/plain": [
       "'dog'"
      ]
     },
     "execution_count": 28,
     "metadata": {},
     "output_type": "execute_result"
    }
   ],
   "source": [
    "stemmer = SnowballStemmer('english')\n",
    "stemmer.stem('dogs')"
   ]
  },
  {
   "cell_type": "code",
   "execution_count": 29,
   "metadata": {
    "id": "yjFHezsOkf4Q"
   },
   "outputs": [],
   "source": [
    "def filter_keywords(x):\n",
    "    words = []\n",
    "    for i in x:\n",
    "        if i in s:\n",
    "            words.append(i)\n",
    "    return words"
   ]
  },
  {
   "cell_type": "code",
   "execution_count": 30,
   "metadata": {
    "id": "qOP6_-ISkiD8"
   },
   "outputs": [],
   "source": [
    "smd['keywords'] = smd['keywords'].apply(filter_keywords)\n",
    "smd['keywords'] = smd['keywords'].apply(lambda x: [stemmer.stem(i) for i in x])\n",
    "smd['keywords'] = smd['keywords'].apply(lambda x: [str.lower(i.replace(\" \", \"\")) for i in x])"
   ]
  },
  {
   "cell_type": "code",
   "execution_count": 31,
   "metadata": {
    "id": "lGWWnPaAkj0h"
   },
   "outputs": [],
   "source": [
    "smd['soup'] = smd['keywords'] + smd['cast'] + smd['director'] + smd['genres']\n",
    "smd['soup'] = smd['soup'].apply(lambda x: ' '.join(x))"
   ]
  },
  {
   "cell_type": "code",
   "execution_count": 32,
   "metadata": {
    "id": "PUtP8EnZkrMk"
   },
   "outputs": [],
   "source": [
    "count = CountVectorizer(analyzer='word',ngram_range=(1, 2),min_df=0.0, stop_words='english')\n",
    "count_matrix = count.fit_transform(smd['soup'])"
   ]
  },
  {
   "cell_type": "code",
   "execution_count": 33,
   "metadata": {
    "id": "0zfPPXr-ljfF"
   },
   "outputs": [],
   "source": [
    "cosine_sim = cosine_similarity(count_matrix, count_matrix)"
   ]
  },
  {
   "cell_type": "code",
   "execution_count": 34,
   "metadata": {
    "id": "aQEC9ypvloyl"
   },
   "outputs": [],
   "source": [
    "smd = smd.reset_index()\n",
    "titles = smd['title']\n",
    "indices = pd.Series(smd.index, index=smd['title'])"
   ]
  },
  {
   "cell_type": "code",
   "execution_count": 35,
   "metadata": {
    "colab": {
     "base_uri": "https://localhost:8080/",
     "height": 398
    },
    "id": "zipt7fzZlq8d",
    "outputId": "dccd174a-8f0d-4ff7-c858-50743d8ecca0"
   },
   "outputs": [
    {
     "data": {
      "text/plain": [
       "8031         The Dark Knight Rises\n",
       "6218                 Batman Begins\n",
       "6623                  The Prestige\n",
       "2085                     Following\n",
       "7648                     Inception\n",
       "4145                      Insomnia\n",
       "3381                       Memento\n",
       "8613                  Interstellar\n",
       "7659    Batman: Under the Red Hood\n",
       "1134                Batman Returns\n",
       "Name: title, dtype: object"
      ]
     },
     "execution_count": 35,
     "metadata": {},
     "output_type": "execute_result"
    }
   ],
   "source": [
    "get_recommendations('The Dark Knight').head(10)"
   ]
  },
  {
   "cell_type": "code",
   "execution_count": 36,
   "metadata": {
    "colab": {
     "base_uri": "https://localhost:8080/"
    },
    "id": "8tTaHqXAmW4_",
    "outputId": "f3b594ba-512e-4d06-ad43-af8951088c27"
   },
   "outputs": [
    {
     "data": {
      "text/plain": [
       "425.0"
      ]
     },
     "execution_count": 36,
     "metadata": {},
     "output_type": "execute_result"
    }
   ],
   "source": [
    "vote_counts = md[md['vote_count'].notnull()]['vote_count'].astype('int')\n",
    "vote_averages = md[md['vote_average'].notnull()]['vote_average'].astype('int')\n",
    "C = vote_averages.mean()\n",
    "C\n",
    "5.244896612406511\n",
    "m = vote_counts.quantile(0.95)\n",
    "m"
   ]
  },
  {
   "cell_type": "code",
   "execution_count": 37,
   "metadata": {
    "id": "_IPRwFyVmNY-"
   },
   "outputs": [],
   "source": [
    "def weighted_rating(x):\n",
    "    v = x['vote_count']\n",
    "    R = x['vote_average']\n",
    "    return (v/(v+m) * R) + (m/(m+v) * C)"
   ]
  },
  {
   "cell_type": "code",
   "execution_count": 80,
   "metadata": {
    "id": "g4yyt5V7lsXf"
   },
   "outputs": [],
   "source": [
    "def improved_recommendations(title):\n",
    "    idx = indices[title]\n",
    "    sim_scores = list(enumerate(cosine_sim[idx]))\n",
    "    sim_scores = sorted(sim_scores, key=lambda x: x[1], reverse=True)\n",
    "    sim_scores = sim_scores[1:26]\n",
    "    movie_indices = [i[0] for i in sim_scores]\n",
    "\n",
    "    movies = smd.iloc[movie_indices][['id','title', 'vote_count', 'vote_average', 'year']]\n",
    "    vote_counts = movies[movies['vote_count'].notnull()]['vote_count'].astype('int')\n",
    "    vote_averages = movies[movies['vote_average'].notnull()]['vote_average'].astype('int')\n",
    "    C = vote_averages.mean()\n",
    "    m = vote_counts.quantile(0.60)\n",
    "    qualified = movies[(movies['vote_count'] >= m) & (movies['vote_count'].notnull()) & (movies['vote_average'].notnull())]\n",
    "    qualified['vote_count'] = qualified['vote_count'].astype('int')\n",
    "    qualified['vote_average'] = qualified['vote_average'].astype('int')\n",
    "    qualified['wr'] = qualified.apply(weighted_rating, axis=1)\n",
    "    qualified = qualified.sort_values('wr', ascending=False).head(10)\n",
    "    return qualified['id'].tolist()"
   ]
  },
  {
   "cell_type": "code",
   "execution_count": 81,
   "metadata": {
    "colab": {
     "base_uri": "https://localhost:8080/",
     "height": 363
    },
    "id": "5VJNhMpNmFHX",
    "outputId": "93b0dd84-8042-4ef4-edc1-f22ede9d3579"
   },
   "outputs": [
    {
     "data": {
      "text/plain": [
       "[597, 127585, 54138, 280, 218, 679, 2756, 49521, 36955, 76757]"
      ]
     },
     "execution_count": 81,
     "metadata": {},
     "output_type": "execute_result"
    }
   ],
   "source": [
    "improved_recommendations('Avatar')"
   ]
  },
  {
   "cell_type": "markdown",
   "metadata": {
    "id": "LSvFSbLQmGim"
   },
   "source": [
    "# Коллаборативная фильтрация"
   ]
  },
  {
   "cell_type": "code",
   "execution_count": 43,
   "metadata": {
    "id": "H8n6LyOHva6q"
   },
   "outputs": [
    {
     "name": "stdout",
     "output_type": "stream",
     "text": [
      "Evaluating RMSE, MAE of algorithm SVD on 5 split(s).\n",
      "\n",
      "                  Fold 1  Fold 2  Fold 3  Fold 4  Fold 5  Mean    Std     \n",
      "RMSE (testset)    0.8800  0.8764  0.8730  0.8746  0.8713  0.8750  0.0030  \n",
      "MAE (testset)     0.6771  0.6720  0.6695  0.6720  0.6717  0.6724  0.0025  \n",
      "Fit time          3.03    2.80    2.09    2.14    2.35    2.48    0.37    \n",
      "Test time         0.28    0.18    0.38    0.17    0.14    0.23    0.09    \n",
      "SVD Prediction for user 1 and movie 302: 2.77\n"
     ]
    }
   ],
   "source": [
    "reader = Reader()\n",
    "ratings = pd.read_csv('ratings_small.csv')\n",
    "data = Dataset.load_from_df(ratings[['userId', 'movieId', 'rating']], reader)\n",
    "\n",
    "best_params_rmse = {'lr_all': 0.012953500641312315, 'n_epochs': 44, 'n_factors': 91, 'reg_all': 0.09408867005221243}\n",
    "best_params_mae = {'lr_all': 0.012953500641312315, 'n_epochs': 44, 'n_factors': 91, 'reg_all': 0.09408867005221243}\n",
    "\n",
    "# Инициализация SVD с лучшими параметрами (RMSE)\n",
    "svd = SVD(\n",
    "    lr_all=best_params_rmse['lr_all'],\n",
    "    n_epochs=best_params_rmse['n_epochs'],\n",
    "    n_factors=best_params_rmse['n_factors'],\n",
    "    reg_all=best_params_rmse['reg_all']\n",
    ")\n",
    "\n",
    "cross_validate(svd, data, measures=['RMSE', 'MAE'], cv=5, verbose=True)\n",
    "\n",
    "trainset = data.build_full_trainset()\n",
    "\n",
    "prediction = svd.predict(1, 302, 3)\n",
    "print(f\"SVD Prediction for user 1 and movie 302: {prediction.est:.2f}\")"
   ]
  },
  {
   "cell_type": "markdown",
   "metadata": {},
   "source": [
    "# Гибридный рекомендатель"
   ]
  },
  {
   "cell_type": "markdown",
   "metadata": {},
   "source": [
    "Создаем new_df с id фильмов и их названиями"
   ]
  },
  {
   "cell_type": "code",
   "execution_count": 93,
   "metadata": {},
   "outputs": [
    {
     "name": "stdout",
     "output_type": "stream",
     "text": [
      "           id                        title\n",
      "0         862                    Toy Story\n",
      "1        8844                      Jumanji\n",
      "2       15602             Grumpier Old Men\n",
      "3       31357            Waiting to Exhale\n",
      "4       11862  Father of the Bride Part II\n",
      "...       ...                          ...\n",
      "45461  439050                       Subdue\n",
      "45462  111109          Century of Birthing\n",
      "45463   67758                     Betrayal\n",
      "45464  227506             Satan Triumphant\n",
      "45465  461257                     Queerama\n",
      "\n",
      "[45466 rows x 2 columns]\n"
     ]
    }
   ],
   "source": [
    "import pandas as pd\n",
    "\n",
    "# Замените 'film.csv' на реальный путь к вашему файлу\n",
    "file_path = 'film.csv'  \n",
    "\n",
    "try:\n",
    "    # Читаем CSV файл в DataFrame\n",
    "    df = pd.read_csv(file_path)\n",
    "\n",
    "    # Проверяем, существуют ли столбцы 'id' и 'title'\n",
    "    if 'id' not in df.columns or 'title' not in df.columns:\n",
    "        raise ValueError(\"Столбцы 'id' и/или 'title' отсутствуют в файле.\")\n",
    "\n",
    "    # Создаем новый DataFrame с выбранными столбцами\n",
    "    new_df = df[['id', 'title']]\n",
    "\n",
    "    # Выводим новый DataFrame\n",
    "    print(new_df)\n",
    "\n",
    "except FileNotFoundError:\n",
    "    print(f\"Файл {file_path} не найден.\")\n",
    "except pd.errors.EmptyDataError:\n",
    "    print(f\"Файл {file_path} пуст.\")\n",
    "except pd.errors.ParserError:\n",
    "    print(f\"Ошибка при разборе файла {file_path}. Проверьте формат файла.\")\n",
    "except ValueError as e:\n",
    "    print(e)\n",
    "except Exception as e:\n",
    "    print(f\"Произошла непредвиденная ошибка: {e}\")"
   ]
  },
  {
   "cell_type": "markdown",
   "metadata": {},
   "source": [
    "Ищем для конкретного пользователя фильмы с рейтингом >= 4"
   ]
  },
  {
   "cell_type": "code",
   "execution_count": 94,
   "metadata": {},
   "outputs": [
    {
     "name": "stdout",
     "output_type": "stream",
     "text": [
      "Фильмы с рейтингом 4 и выше для пользователя 3: [110, 296, 318, 356, 778, 1197, 1235, 1378, 1721, 1884, 2028, 2318, 2841, 2858, 2959, 3510, 3949, 48783, 50068, 84236]\n"
     ]
    }
   ],
   "source": [
    "def get_high_rated_movies(user_id, ratings_file='ratings_small.csv', rating_threshold=4):\n",
    "    try:\n",
    "        ratings = pd.read_csv(ratings_file)\n",
    "        reader = Reader()\n",
    "        data = Dataset.load_from_df(ratings[['userId', 'movieId', 'rating']], reader)\n",
    "\n",
    "        user_ratings = ratings[ratings['userId'] == user_id]\n",
    "\n",
    "        if user_ratings.empty:\n",
    "            return None # Пользователь не найден\n",
    "\n",
    "        high_rated_movies = user_ratings[user_ratings['rating'] >= rating_threshold]['movieId'].tolist()\n",
    "        return high_rated_movies\n",
    "\n",
    "    except FileNotFoundError:\n",
    "        print(f\"Файл {ratings_file} не найден.\")\n",
    "        return None\n",
    "    except Exception as e:\n",
    "        print(f\"Произошла ошибка: {e}\")\n",
    "        return None\n",
    "\n",
    "\n",
    "user_id_to_check = 3\n",
    "high_rated = get_high_rated_movies(user_id_to_check)\n",
    "\n",
    "if high_rated:\n",
    "    print(f\"Фильмы с рейтингом 4 и выше для пользователя {user_id_to_check}: {high_rated}\")\n",
    "else:\n",
    "    print(f\"Пользователь {user_id_to_check} не найден или произошла ошибка.\")"
   ]
  },
  {
   "cell_type": "markdown",
   "metadata": {},
   "source": [
    "Сопоставляем id фильмов и их названия, чтобы воспользоваться improved_recommendations "
   ]
  },
  {
   "cell_type": "code",
   "execution_count": 95,
   "metadata": {},
   "outputs": [
    {
     "name": "stdout",
     "output_type": "stream",
     "text": [
      "['Three Colors: Red', 'Terminator 3: Rise of the Machines', 'The Million Dollar Hotel', \"Monsieur  Hulot's Holiday\", 'Shortbus', 'All the Way Boys', 'The Ewok Adventure', 'Say Anything...', 'A Very Long Engagement', 'License to Wed']\n"
     ]
    }
   ],
   "source": [
    "high_rated_df = pd.DataFrame({'id': [str(x) for x in high_rated]})\n",
    "merged_df = pd.merge(high_rated_df, new_df, on='id', how='left')\n",
    "merged_df = merged_df.dropna(subset=['title']) # Удаляем строки с NaN в столбце 'title'\n",
    "titles = merged_df['title'].tolist()\n",
    "print(titles)"
   ]
  },
  {
   "cell_type": "markdown",
   "metadata": {},
   "source": [
    "Для каждого фильма применяем и находим похожие фильмы (их id)"
   ]
  },
  {
   "cell_type": "code",
   "execution_count": 96,
   "metadata": {},
   "outputs": [
    {
     "name": "stdout",
     "output_type": "stream",
     "text": [
      "Фильм 'All the Way Boys' не найден в индексе. Проверьте данные.\n",
      "Фильм 'The Ewok Adventure' не найден в индексе. Проверьте данные.\n",
      "[228970, 18320, 108, 109, 1600, 2786, 15383, 62204, 11673, 8072, 603, 280, 218, 6479, 49530, 604, 605, 20504, 534, 87101, 197, 1579, 655, 144, 910, 1266, 2086, 10502, 17707, 507, 771, 850, 772, 10437, 10719, 10227, 11395, 13680, 13767, 9745, 258480, 639, 1544, 13403, 1909, 15708, 11240, 24137, 38291, 4599, 786, 1903, 9390, 74465, 9621, 27583, 11068, 16643, 1901, 222936, 194, 228970, 18320, 269, 892, 902, 2786, 10222, 27936, 8078, 6557, 10184, 712, 8874, 11003, 9779, 10030, 9530, 9574, 10521]\n"
     ]
    }
   ],
   "source": [
    "all_recommendations = []\n",
    "for title in titles:\n",
    "    try:\n",
    "        recommendations = improved_recommendations(title)\n",
    "        all_recommendations.extend(recommendations)\n",
    "    except KeyError:\n",
    "        print(f\"Фильм '{title}' не найден в индексе. Проверьте данные.\")\n",
    "\n",
    "print(all_recommendations)"
   ]
  },
  {
   "cell_type": "markdown",
   "metadata": {},
   "source": [
    "Для каждого найденого фильма применяем svd.predict(user_id_to_check, movie_id) и если рейтинг получился >= 3, то записываем фильм в рекомендованые и затем выводим все id таких фильмов по убыванию их рейтингов"
   ]
  },
  {
   "cell_type": "code",
   "execution_count": 97,
   "metadata": {},
   "outputs": [
    {
     "name": "stdout",
     "output_type": "stream",
     "text": [
      "       predicted_rating  movieId\n",
      "850            4.113507      850\n",
      "194            4.005161      194\n",
      "49530          3.927674    49530\n",
      "8874           3.867486     8874\n",
      "280            3.779778      280\n",
      "...                 ...      ...\n",
      "639            3.311217      639\n",
      "902            3.309376      902\n",
      "786            3.206288      786\n",
      "507            3.182167      507\n",
      "1544           3.058656     1544\n",
      "\n",
      "[76 rows x 2 columns]\n",
      "\n",
      "Movie IDs sorted by predicted rating:\n",
      "[850, 194, 49530, 8874, 280, 534, 1903, 910, 108, 269, 605, 603, 1266, 16643, 11068, 27583, 228970, 9621, 1901, 9390, 4599, 38291, 24137, 11240, 74465, 10222, 222936, 13403, 27936, 8078, 6557, 10184, 712, 11003, 9779, 10030, 9530, 9574, 15708, 9745, 10521, 8072, 604, 20504, 87101, 197, 11673, 1579, 655, 62204, 2086, 10502, 17707, 15383, 771, 772, 10437, 10719, 10227, 11395, 13680, 13767, 18320, 109, 258480, 6479, 2786, 892, 144, 218, 1909, 639, 902, 786, 507, 1544]\n"
     ]
    }
   ],
   "source": [
    "high_rated_movies = {} # Словарь для хранения ID и предсказанных рейтингов\n",
    "\n",
    "for movie_id in all_recommendations:\n",
    "    try:\n",
    "        prediction = svd.predict(user_id_to_check, movie_id)\n",
    "        \n",
    "        if prediction.est >= 3:\n",
    "            high_rated_movies[movie_id] = prediction.est # Сохраняем ID и предсказанный рейтинг\n",
    "    except Exception as e:\n",
    "        print(f\"Ошибка при предсказании для фильма {movie_id}: {e}\")\n",
    "\n",
    "\n",
    "# Создаем DataFrame из словаря\n",
    "high_rated_df = pd.DataFrame.from_dict(high_rated_movies, orient='index', columns=['predicted_rating'])\n",
    "high_rated_df['movieId'] = high_rated_df.index\n",
    "\n",
    "# Сортировка по предсказанному рейтингу\n",
    "high_rated_df = high_rated_df.sort_values('predicted_rating', ascending=False)\n",
    "\n",
    "print(high_rated_df)\n",
    "\n",
    "# Вывод только movieId\n",
    "print(\"\\nMovie IDs sorted by predicted rating:\")\n",
    "print(high_rated_df['movieId'].tolist())\n"
   ]
  },
  {
   "cell_type": "markdown",
   "metadata": {},
   "source": [
    "Удаляем все просмотренные фильмы пользователем из текущего списка"
   ]
  },
  {
   "cell_type": "code",
   "execution_count": 105,
   "metadata": {},
   "outputs": [
    {
     "name": "stdout",
     "output_type": "stream",
     "text": [
      "[850, 194, 49530, 8874, 280, 534, 1903, 910, 108, 269, 605, 603, 1266, 16643, 11068, 27583, 228970, 9621, 1901, 9390, 4599, 38291, 24137, 11240, 74465, 10222, 222936, 13403, 27936, 8078, 6557, 10184, 712, 11003, 9779, 10030, 9530, 9574, 15708, 9745, 10521, 8072, 604, 20504, 87101, 197, 11673, 1579, 655, 62204, 2086, 10502, 17707, 15383, 771, 772, 10437, 10719, 10227, 11395, 13680, 13767, 18320, 109, 258480, 6479, 2786, 892, 144, 218, 1909, 639, 902, 786, 507, 1544]\n"
     ]
    }
   ],
   "source": [
    "high_rated_df = high_rated_df[~high_rated_df['movieId'].isin(high_rated)]\n",
    "print(high_rated_df['movieId'].tolist())"
   ]
  }
 ],
 "metadata": {
  "colab": {
   "provenance": []
  },
  "kernelspec": {
   "display_name": "Python 3 (ipykernel)",
   "language": "python",
   "name": "python3"
  },
  "language_info": {
   "codemirror_mode": {
    "name": "ipython",
    "version": 3
   },
   "file_extension": ".py",
   "mimetype": "text/x-python",
   "name": "python",
   "nbconvert_exporter": "python",
   "pygments_lexer": "ipython3",
   "version": "3.12.4"
  }
 },
 "nbformat": 4,
 "nbformat_minor": 4
}
